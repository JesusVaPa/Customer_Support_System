{
 "cells": [
  {
   "cell_type": "code",
   "execution_count": 2,
   "metadata": {},
   "outputs": [],
   "source": [
    "import sqlite3"
   ]
  },
  {
   "cell_type": "code",
   "execution_count": 6,
   "metadata": {},
   "outputs": [],
   "source": [
    "conn = sqlite3.connect(\"database.db\")\n",
    "cursor = conn.cursor()"
   ]
  },
  {
   "cell_type": "code",
   "execution_count": 8,
   "metadata": {},
   "outputs": [],
   "source": [
    "# Read SQL commands from the file\n",
    "with open('database.sql', 'r') as file:\n",
    "    sql_commands = file.read()"
   ]
  },
  {
   "cell_type": "code",
   "execution_count": 10,
   "metadata": {},
   "outputs": [
    {
     "data": {
      "text/plain": [
       "<sqlite3.Cursor at 0x1d6ee7ce1c0>"
      ]
     },
     "execution_count": 10,
     "metadata": {},
     "output_type": "execute_result"
    }
   ],
   "source": [
    "cursor.executescript(sql_commands)"
   ]
  },
  {
   "cell_type": "code",
   "execution_count": 11,
   "metadata": {},
   "outputs": [],
   "source": [
    "conn.commit()"
   ]
  },
  {
   "cell_type": "code",
   "execution_count": 15,
   "metadata": {},
   "outputs": [],
   "source": [
    "conn.close()"
   ]
  },
  {
   "cell_type": "code",
   "execution_count": 14,
   "metadata": {},
   "outputs": [
    {
     "name": "stdout",
     "output_type": "stream",
     "text": [
      "(1, 'Customer 1', 'Male', 'City 1')\n",
      "(2, 'Customer 2', 'Female', 'City 2')\n",
      "(3, 'Customer 3', 'Male', 'City 3')\n",
      "(4, 'Customer 4', 'Female', 'City 4')\n",
      "(5, 'Customer 5', 'Male', 'City 5')\n",
      "(6, 'Customer 6', 'Female', 'City 6')\n",
      "(7, 'Customer 7', 'Male', 'City 7')\n",
      "(8, 'Customer 8', 'Female', 'City 8')\n",
      "(9, 'Customer 9', 'Male', 'City 9')\n",
      "(10, 'Customer 10', 'Female', 'City 10')\n",
      "(11, 'Customer 11', 'Male', 'City 11')\n",
      "(12, 'Customer 12', 'Female', 'City 12')\n",
      "(13, 'Customer 13', 'Male', 'City 13')\n",
      "(14, 'Customer 14', 'Female', 'City 14')\n",
      "(15, 'Customer 15', 'Male', 'City 15')\n",
      "(16, 'Customer 16', 'Female', 'City 16')\n",
      "(17, 'Customer 17', 'Male', 'City 17')\n",
      "(18, 'Customer 18', 'Female', 'City 18')\n",
      "(19, 'Customer 19', 'Male', 'City 19')\n",
      "(20, 'Customer 20', 'Female', 'City 20')\n",
      "(21, 'Customer 21', 'Male', 'City 21')\n",
      "(22, 'Customer 22', 'Female', 'City 22')\n",
      "(23, 'Customer 23', 'Male', 'City 23')\n",
      "(24, 'Customer 24', 'Female', 'City 24')\n",
      "(25, 'Customer 25', 'Male', 'City 25')\n",
      "(26, 'Customer 26', 'Female', 'City 26')\n",
      "(27, 'Customer 27', 'Male', 'City 27')\n",
      "(28, 'Customer 28', 'Female', 'City 28')\n",
      "(29, 'Customer 29', 'Male', 'City 29')\n",
      "(30, 'Customer 30', 'Female', 'City 30')\n"
     ]
    }
   ],
   "source": [
    "# Define the SQL query to select data from the table\n",
    "select_query = \"\"\"\n",
    "select * from customers\n",
    "\"\"\"\n",
    "\n",
    "# Execute the SQL query\n",
    "cursor.execute(select_query)\n",
    "\n",
    "# Fetch all rows from the result set\n",
    "rows = cursor.fetchall()\n",
    "\n",
    "# Display the retrieved data\n",
    "for row in rows:\n",
    "    print(row)"
   ]
  },
  {
   "cell_type": "code",
   "execution_count": null,
   "metadata": {},
   "outputs": [],
   "source": []
  }
 ],
 "metadata": {
  "kernelspec": {
   "display_name": "base",
   "language": "python",
   "name": "python3"
  },
  "language_info": {
   "codemirror_mode": {
    "name": "ipython",
    "version": 3
   },
   "file_extension": ".py",
   "mimetype": "text/x-python",
   "name": "python",
   "nbconvert_exporter": "python",
   "pygments_lexer": "ipython3",
   "version": "3.12.1"
  }
 },
 "nbformat": 4,
 "nbformat_minor": 2
}
