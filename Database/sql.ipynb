{
 "cells": [
  {
   "cell_type": "code",
   "execution_count": 1,
   "metadata": {},
   "outputs": [],
   "source": [
    "import sqlite3"
   ]
  },
  {
   "cell_type": "code",
   "execution_count": 2,
   "metadata": {},
   "outputs": [],
   "source": [
    "conn = sqlite3.connect('database.db')"
   ]
  },
  {
   "cell_type": "code",
   "execution_count": 3,
   "metadata": {},
   "outputs": [],
   "source": [
    "cursor = conn.cursor()"
   ]
  },
  {
   "cell_type": "code",
   "execution_count": 8,
   "metadata": {},
   "outputs": [
    {
     "data": {
      "text/plain": [
       "<sqlite3.Cursor at 0x28d164c0640>"
      ]
     },
     "execution_count": 8,
     "metadata": {},
     "output_type": "execute_result"
    }
   ],
   "source": [
    "# Read the SQL file\n",
    "with open('database.sql', 'r') as file:\n",
    "    sql_script = file.read()\n",
    "    \n",
    "# Execute the SQL script\n",
    "cursor.executescript(sql_script)"
   ]
  },
  {
   "cell_type": "code",
   "execution_count": 9,
   "metadata": {},
   "outputs": [
    {
     "name": "stdout",
     "output_type": "stream",
     "text": [
      "sqlite_sequence\n",
      "faqs\n",
      "users\n",
      "tickets\n",
      "categories\n",
      "admins\n"
     ]
    }
   ],
   "source": [
    "cursor.execute('SELECT name FROM sqlite_master WHERE type=\"table\"')\n",
    "tables = cursor.fetchall()\n",
    "# Print out the table names\n",
    "for table in tables:\n",
    "    print(table[0])"
   ]
  },
  {
   "cell_type": "code",
   "execution_count": 10,
   "metadata": {},
   "outputs": [
    {
     "ename": "IntegrityError",
     "evalue": "NOT NULL constraint failed: admins.username",
     "output_type": "error",
     "traceback": [
      "\u001b[1;31m---------------------------------------------------------------------------\u001b[0m",
      "\u001b[1;31mIntegrityError\u001b[0m                            Traceback (most recent call last)",
      "Cell \u001b[1;32mIn[10], line 6\u001b[0m\n\u001b[0;32m      3\u001b[0m     sql_commands \u001b[38;5;241m=\u001b[39m sql_file\u001b[38;5;241m.\u001b[39mread()\n\u001b[0;32m      5\u001b[0m \u001b[38;5;66;03m# Execute the SQL commands\u001b[39;00m\n\u001b[1;32m----> 6\u001b[0m \u001b[43mcursor\u001b[49m\u001b[38;5;241;43m.\u001b[39;49m\u001b[43mexecutescript\u001b[49m\u001b[43m(\u001b[49m\u001b[43msql_commands\u001b[49m\u001b[43m)\u001b[49m\n",
      "\u001b[1;31mIntegrityError\u001b[0m: NOT NULL constraint failed: admins.username"
     ]
    }
   ],
   "source": [
    "# Read the SQL commands from the file\n",
    "with open('insert_Data.sql', 'r') as sql_file:\n",
    "    sql_commands = sql_file.read()\n",
    "\n",
    "# Execute the SQL commands\n",
    "cursor.executescript(sql_commands)"
   ]
  },
  {
   "cell_type": "code",
   "execution_count": 4,
   "metadata": {},
   "outputs": [
    {
     "name": "stdout",
     "output_type": "stream",
     "text": [
      "(1, 'Homayoun', 'homayoun.srp@gmail.com', 'pbkdf2:sha256:600000$QavctohRsERMF4Iz$d56b0898b54eb4ae3a1266b8d9248dd04b9c81196273c61d2be5a88234cd5ebd')\n",
      "(2, 'Homayoun', 'homayoun.srp@gmail.com', 'pbkdf2:sha256:600000$1YqPCGsNdaCiebVl$55f73fe76554fb41820d03811c87b01c8d4e86bdb40621d94fd94a5f9196a202')\n",
      "(3, 'Homayoun', 'amir@gmail.com', 'pbkdf2:sha256:600000$uGfRVhsInB1B0Dvt$41d8c8c3e5474ced95c2db04b677d86227e7e2ac7561424aecd6341eb5155cc1')\n"
     ]
    }
   ],
   "source": [
    "# Execute a query to select all data from the users table\n",
    "cursor.execute(\"select * FROM admins\")\n",
    "\n",
    "# Fetch all the rows returned by the query\n",
    "rows = cursor.fetchall()\n",
    "\n",
    "# Print the rows\n",
    "for row in rows:\n",
    "    print(row)"
   ]
  },
  {
   "cell_type": "code",
   "execution_count": 14,
   "metadata": {},
   "outputs": [],
   "source": [
    "# Commit the transaction and Close the cursor and connection\n",
    "conn.commit()\n",
    "cursor.close()\n",
    "conn.close()"
   ]
  },
  {
   "cell_type": "code",
   "execution_count": null,
   "metadata": {},
   "outputs": [],
   "source": []
  }
 ],
 "metadata": {
  "kernelspec": {
   "display_name": "Python 3",
   "language": "python",
   "name": "python3"
  },
  "language_info": {
   "codemirror_mode": {
    "name": "ipython",
    "version": 3
   },
   "file_extension": ".py",
   "mimetype": "text/x-python",
   "name": "python",
   "nbconvert_exporter": "python",
   "pygments_lexer": "ipython3",
   "version": "3.12.1"
  }
 },
 "nbformat": 4,
 "nbformat_minor": 2
}
